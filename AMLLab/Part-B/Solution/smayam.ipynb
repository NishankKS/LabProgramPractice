{
 "cells": [
  {
   "cell_type": "code",
   "execution_count": null,
   "id": "e20ae789",
   "metadata": {},
   "outputs": [],
   "source": [
    "import pandas as pd\n",
    "import numpy as np\n",
    "from statsmodels.tsa.stattools import adfuller\n",
    "import statsmodels\n",
    "from statsmodels.graphics.tsaplots import plot_acf,plot_pacf\n",
    "import matplotlib.pyplot as plt\n",
    "import statsmodels.api as sm\n",
    "from statsmodels.tsa.arima.model import ARIMA\n"
   ]
  },
  {
   "cell_type": "code",
   "execution_count": null,
   "id": "b7041c6c",
   "metadata": {},
   "outputs": [],
   "source": [
    "data = pd.read_csv('C:\\\\Users\\\\PandaBas\\\\Desktop\\\\Personal\\\\Teaching\\\\Time_Series\\\\monthly_agg_sales.csv')\n",
    "data.head()\n"
   ]
  },
  {
   "cell_type": "code",
   "execution_count": null,
   "id": "e53a3b16",
   "metadata": {},
   "outputs": [],
   "source": [
    "# train test split \n",
    "train = data.head(42)\n",
    "test = data.tail(6)\n"
   ]
  },
  {
   "cell_type": "code",
   "execution_count": null,
   "id": "c12dc8e7",
   "metadata": {},
   "outputs": [],
   "source": [
    "# Stationarity check\n",
    "result = adfuller(train.Sales.dropna())\n",
    "print('ADF Statistic: %f' % result[0])\n",
    "print('p-value: %f' % result[1])\n"
   ]
  },
  {
   "cell_type": "code",
   "execution_count": null,
   "id": "8173184f",
   "metadata": {},
   "outputs": [],
   "source": [
    "# Create time series objects\n",
    "train.set_index('month',inplace = True)\n",
    "test.set_index('month',inplace = True)\n"
   ]
  },
  {
   "cell_type": "code",
   "execution_count": null,
   "id": "2d292467",
   "metadata": {},
   "outputs": [],
   "source": [
    "# create lag variables\n",
    "train['lag1'] = train['Sales'].shift(1)\n",
    "train['lag2'] = train['Sales'].shift(2)\n",
    "train['lag3'] = train['Sales'].shift(3)\n",
    "train.head()\n"
   ]
  },
  {
   "cell_type": "code",
   "execution_count": null,
   "id": "1626bdb4",
   "metadata": {},
   "outputs": [],
   "source": [
    "# check stationarty for lag\n",
    "result = adfuller(train.lag1.dropna())\n",
    "print('ADF Statistic: %f' % result[0])\n",
    "print('p-value: %f' % result[1])\n"
   ]
  },
  {
   "cell_type": "code",
   "execution_count": null,
   "id": "209ba988",
   "metadata": {},
   "outputs": [],
   "source": [
    "# Plot ACF and PACF\n",
    "fig = plt.figure(figsize=(12,8))\n",
    "ax1 = fig.add_subplot(211)\n",
    "fig = plot_acf(train['lag1'].dropna(),lags=15,ax=ax1)\n",
    "ax2 = fig.add_subplot(212)\n",
    "fig = plot_pacf(train['lag1'].dropna(),lags=15,ax=ax2)\n"
   ]
  },
  {
   "cell_type": "code",
   "execution_count": null,
   "id": "e30b7b98",
   "metadata": {},
   "outputs": [],
   "source": [
    "# Fit the model\n",
    "model_1 = ARIMA(train.Sales, order=(1,0,1))\n",
    "model_fit_1 = model_1.fit()\n",
    "print(model_fit_1.summary())\n",
    "# make predictions\n",
    "predictions_1 = model_fit_1.forecast(6)\n",
    "# Check accuracy\n",
    "print(f'ARIMA Model Test Data MSE: {np.mean((predictions_1.values - test.Sales)**2):.3f}')\n",
    "print(f'ARIMA Model Test Data MAPE: {np.mean(np.abs(test.Sales - predictions_1.values)/test.Sales )*100:.3f}')\n"
   ]
  },
  {
   "cell_type": "code",
   "execution_count": null,
   "id": "811ca00a",
   "metadata": {},
   "outputs": [],
   "source": [
    "# Fit the model\n",
    "model_2 = ARIMA(train.Sales, order=(1,0,1))\n",
    "model_fit_2 = model_2.fit()\n",
    "print(model_fit_2.summary())\n",
    "# make predictions\n",
    "predictions_2 = model_fit_2.forecast(6)\n",
    "# Check accuracy\n",
    "print(f'ARIMA Model Test Data MSE: {np.mean((predictions_2.values - test.Sales)**2):.3f}')\n",
    "print(f'ARIMA Model Test Data MAPE: {np.mean(np.abs(test.Sales - predictions_2.values)/test.Sales )*100:.3f}')\n"
   ]
  },
  {
   "cell_type": "code",
   "execution_count": null,
   "id": "39defb55",
   "metadata": {},
   "outputs": [],
   "source": [
    "\n",
    "# Fit the model\n",
    "model_3 = ARIMA(train.Sales, order=(1,0,1))\n",
    "model_fit_3 = model_3.fit()\n",
    "print(model_fit_3.summary())\n",
    "# make predictions\n",
    "predictions_3 = model_fit_3.forecast(6)\n",
    "# Check accuracy\n",
    "print(f'ARIMA Model Test Data MSE: {np.mean((predictions_3.values - test.Sales)**2):.3f}')\n",
    "print(f'ARIMA Model Test Data MAPE: {np.mean(np.abs(test.Sales - predictions_3.values)/test.Sales )*100:.3f}')\n"
   ]
  },
  {
   "cell_type": "code",
   "execution_count": null,
   "id": "3986b2a1",
   "metadata": {},
   "outputs": [],
   "source": [
    "# Fit the model\n",
    "model_4 = ARIMA(train.Sales, order=(1,0,1))\n",
    "model_fit_4 = model_4.fit()\n",
    "print(model_fit_4.summary())\n",
    "# make predictions\n",
    "predictions_4 = model_fit_4.forecast(6)\n",
    "# Check accuracy\n",
    "print(f'ARIMA Model Test Data MSE: {np.mean((predictions_4.values - test.Sales)**2):.3f}')\n",
    "print(f'ARIMA Model Test Data MAPE: {np.mean(np.abs(test.Sales - predictions_4.values)/test.Sales )*100:.3f}')\n"
   ]
  },
  {
   "cell_type": "code",
   "execution_count": null,
   "id": "6cbe97ae",
   "metadata": {},
   "outputs": [],
   "source": [
    "# Fit the model\n",
    "model_5 = ARIMA(train.Sales, order=(1,0,1))\n",
    "model_fit_5 = model_5.fit()\n",
    "print(model_fit_5.summary())\n",
    "# make predictions\n",
    "predictions_5 = model_fit_5.forecast(6)\n",
    "# Check accuracy\n",
    "print(f'ARIMA Model Test Data MSE: {np.mean((predictions_5.values - test.Sales)**2):.3f}')\n",
    "print(f'ARIMA Model Test Data MAPE: {np.mean(np.abs(test.Sales - predictions_5.values)/test.Sales )*100:.3f}')"
   ]
  }
 ],
 "metadata": {
  "kernelspec": {
   "display_name": "Python 3 (ipykernel)",
   "language": "python",
   "name": "python3"
  },
  "language_info": {
   "codemirror_mode": {
    "name": "ipython",
    "version": 3
   },
   "file_extension": ".py",
   "mimetype": "text/x-python",
   "name": "python",
   "nbconvert_exporter": "python",
   "pygments_lexer": "ipython3",
   "version": "3.9.13"
  }
 },
 "nbformat": 4,
 "nbformat_minor": 5
}
