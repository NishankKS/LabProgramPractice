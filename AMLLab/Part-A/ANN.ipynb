{
 "cells": [
  {
   "cell_type": "code",
   "execution_count": 29,
   "id": "80b0f890",
   "metadata": {},
   "outputs": [],
   "source": [
    "# Import libraries and data\n",
    "import tensorflow as tf \n",
    "from tensorflow import keras \n",
    "from sklearn.preprocessing import MinMaxScaler\n",
    "from sklearn.model_selection import train_test_split\n",
    "scaler = MinMaxScaler() \n",
    "import pandas as pd \n",
    "from sklearn.metrics import accuracy_score"
   ]
  },
  {
   "cell_type": "code",
   "execution_count": 17,
   "id": "9cdbbc5f",
   "metadata": {},
   "outputs": [
    {
     "data": {
      "text/html": [
       "<div>\n",
       "<style scoped>\n",
       "    .dataframe tbody tr th:only-of-type {\n",
       "        vertical-align: middle;\n",
       "    }\n",
       "\n",
       "    .dataframe tbody tr th {\n",
       "        vertical-align: top;\n",
       "    }\n",
       "\n",
       "    .dataframe thead th {\n",
       "        text-align: right;\n",
       "    }\n",
       "</style>\n",
       "<table border=\"1\" class=\"dataframe\">\n",
       "  <thead>\n",
       "    <tr style=\"text-align: right;\">\n",
       "      <th></th>\n",
       "      <th>y</th>\n",
       "      <th>age</th>\n",
       "      <th>marital</th>\n",
       "      <th>ever_defaulted</th>\n",
       "      <th>housing_loan</th>\n",
       "      <th>Personal_loan</th>\n",
       "    </tr>\n",
       "  </thead>\n",
       "  <tbody>\n",
       "    <tr>\n",
       "      <th>0</th>\n",
       "      <td>0</td>\n",
       "      <td>56</td>\n",
       "      <td>1</td>\n",
       "      <td>0</td>\n",
       "      <td>0</td>\n",
       "      <td>0</td>\n",
       "    </tr>\n",
       "    <tr>\n",
       "      <th>1</th>\n",
       "      <td>0</td>\n",
       "      <td>37</td>\n",
       "      <td>1</td>\n",
       "      <td>0</td>\n",
       "      <td>1</td>\n",
       "      <td>0</td>\n",
       "    </tr>\n",
       "    <tr>\n",
       "      <th>2</th>\n",
       "      <td>0</td>\n",
       "      <td>40</td>\n",
       "      <td>1</td>\n",
       "      <td>0</td>\n",
       "      <td>0</td>\n",
       "      <td>0</td>\n",
       "    </tr>\n",
       "    <tr>\n",
       "      <th>3</th>\n",
       "      <td>0</td>\n",
       "      <td>56</td>\n",
       "      <td>1</td>\n",
       "      <td>0</td>\n",
       "      <td>0</td>\n",
       "      <td>1</td>\n",
       "    </tr>\n",
       "    <tr>\n",
       "      <th>4</th>\n",
       "      <td>0</td>\n",
       "      <td>59</td>\n",
       "      <td>1</td>\n",
       "      <td>0</td>\n",
       "      <td>0</td>\n",
       "      <td>0</td>\n",
       "    </tr>\n",
       "  </tbody>\n",
       "</table>\n",
       "</div>"
      ],
      "text/plain": [
       "   y  age  marital  ever_defaulted  housing_loan  Personal_loan\n",
       "0  0   56        1               0             0              0\n",
       "1  0   37        1               0             1              0\n",
       "2  0   40        1               0             0              0\n",
       "3  0   56        1               0             0              1\n",
       "4  0   59        1               0             0              0"
      ]
     },
     "execution_count": 17,
     "metadata": {},
     "output_type": "execute_result"
    }
   ],
   "source": [
    "data = pd.read_csv('bank_marketing.csv')\n",
    "data.head()"
   ]
  },
  {
   "cell_type": "code",
   "execution_count": 18,
   "id": "ade7f74b",
   "metadata": {},
   "outputs": [
    {
     "data": {
      "text/html": [
       "<div>\n",
       "<style scoped>\n",
       "    .dataframe tbody tr th:only-of-type {\n",
       "        vertical-align: middle;\n",
       "    }\n",
       "\n",
       "    .dataframe tbody tr th {\n",
       "        vertical-align: top;\n",
       "    }\n",
       "\n",
       "    .dataframe thead th {\n",
       "        text-align: right;\n",
       "    }\n",
       "</style>\n",
       "<table border=\"1\" class=\"dataframe\">\n",
       "  <thead>\n",
       "    <tr style=\"text-align: right;\">\n",
       "      <th></th>\n",
       "      <th>y</th>\n",
       "      <th>age</th>\n",
       "      <th>marital</th>\n",
       "      <th>ever_defaulted</th>\n",
       "      <th>housing_loan</th>\n",
       "      <th>Personal_loan</th>\n",
       "    </tr>\n",
       "  </thead>\n",
       "  <tbody>\n",
       "    <tr>\n",
       "      <th>0</th>\n",
       "      <td>0</td>\n",
       "      <td>0.500000</td>\n",
       "      <td>1</td>\n",
       "      <td>0</td>\n",
       "      <td>0</td>\n",
       "      <td>0</td>\n",
       "    </tr>\n",
       "    <tr>\n",
       "      <th>1</th>\n",
       "      <td>0</td>\n",
       "      <td>0.256410</td>\n",
       "      <td>1</td>\n",
       "      <td>0</td>\n",
       "      <td>1</td>\n",
       "      <td>0</td>\n",
       "    </tr>\n",
       "    <tr>\n",
       "      <th>2</th>\n",
       "      <td>0</td>\n",
       "      <td>0.294872</td>\n",
       "      <td>1</td>\n",
       "      <td>0</td>\n",
       "      <td>0</td>\n",
       "      <td>0</td>\n",
       "    </tr>\n",
       "    <tr>\n",
       "      <th>3</th>\n",
       "      <td>0</td>\n",
       "      <td>0.500000</td>\n",
       "      <td>1</td>\n",
       "      <td>0</td>\n",
       "      <td>0</td>\n",
       "      <td>1</td>\n",
       "    </tr>\n",
       "    <tr>\n",
       "      <th>4</th>\n",
       "      <td>0</td>\n",
       "      <td>0.538462</td>\n",
       "      <td>1</td>\n",
       "      <td>0</td>\n",
       "      <td>0</td>\n",
       "      <td>0</td>\n",
       "    </tr>\n",
       "  </tbody>\n",
       "</table>\n",
       "</div>"
      ],
      "text/plain": [
       "   y       age  marital  ever_defaulted  housing_loan  Personal_loan\n",
       "0  0  0.500000        1               0             0              0\n",
       "1  0  0.256410        1               0             1              0\n",
       "2  0  0.294872        1               0             0              0\n",
       "3  0  0.500000        1               0             0              1\n",
       "4  0  0.538462        1               0             0              0"
      ]
     },
     "execution_count": 18,
     "metadata": {},
     "output_type": "execute_result"
    }
   ],
   "source": [
    "# Scale the numeric columns\n",
    "col_to_scale =['age']\n",
    "data[col_to_scale] = scaler.fit_transform(data[col_to_scale])\n",
    "data.head()"
   ]
  },
  {
   "cell_type": "code",
   "execution_count": 27,
   "id": "491563d8",
   "metadata": {},
   "outputs": [],
   "source": [
    "# Choose the independent and dependent variable \n",
    "X = data.drop('y',axis = 1) \n",
    "Y = data['y']"
   ]
  },
  {
   "cell_type": "code",
   "execution_count": 30,
   "id": "6f22525c",
   "metadata": {},
   "outputs": [],
   "source": [
    "# Train, test/validation split\n",
    "X_train, X_test, y_train, y_test = train_test_split(X,Y, test_size = 0.20, random_state = 42)\n",
    "test_df = pd.concat ([X_test,y_test],axis =1 )"
   ]
  },
  {
   "cell_type": "code",
   "execution_count": 32,
   "id": "46615f5b",
   "metadata": {},
   "outputs": [],
   "source": [
    "# Create the network\n",
    "model = keras.Sequential([ keras.layers.Dense(3, input_shape = (5,),activation = 'relu'), keras.layers.Dense(2, input_shape = (3,),activation = 'relu'), keras.layers.Dense(1,activation = 'sigmoid'), ])"
   ]
  },
  {
   "cell_type": "code",
   "execution_count": 33,
   "id": "42101a5f",
   "metadata": {},
   "outputs": [],
   "source": [
    "# Compile the network\n",
    "model.compile(optimizer ='adam', loss = 'binary_crossentropy', metrics = ['accuracy'] )"
   ]
  },
  {
   "cell_type": "code",
   "execution_count": 34,
   "id": "5fc46d09",
   "metadata": {},
   "outputs": [
    {
     "name": "stdout",
     "output_type": "stream",
     "text": [
      "Epoch 1/5\n",
      "794/794 [==============================] - 1s 1ms/step - loss: 0.4574 - accuracy: 0.8648\n",
      "Epoch 2/5\n",
      "794/794 [==============================] - 1s 1ms/step - loss: 0.3878 - accuracy: 0.8708\n",
      "Epoch 3/5\n",
      "794/794 [==============================] - 1s 1ms/step - loss: 0.3840 - accuracy: 0.8708\n",
      "Epoch 4/5\n",
      "794/794 [==============================] - 1s 990us/step - loss: 0.3832 - accuracy: 0.8708\n",
      "Epoch 5/5\n",
      "794/794 [==============================] - 1s 1ms/step - loss: 0.3827 - accuracy: 0.8708\n"
     ]
    },
    {
     "data": {
      "text/plain": [
       "<keras.callbacks.History at 0x21e216cfa90>"
      ]
     },
     "execution_count": 34,
     "metadata": {},
     "output_type": "execute_result"
    }
   ],
   "source": [
    "# train the model \n",
    "model.fit(X_train,y_train,epochs = 5)"
   ]
  },
  {
   "cell_type": "code",
   "execution_count": 35,
   "id": "7e273b63",
   "metadata": {},
   "outputs": [
    {
     "name": "stdout",
     "output_type": "stream",
     "text": [
      "199/199 [==============================] - 0s 962us/step - loss: 0.3790 - accuracy: 0.8730\n"
     ]
    },
    {
     "data": {
      "text/plain": [
       "[0.37896472215652466, 0.8729534149169922]"
      ]
     },
     "execution_count": 35,
     "metadata": {},
     "output_type": "execute_result"
    }
   ],
   "source": [
    "# Evaluate the model \n",
    "model.evaluate(X_test,y_test)"
   ]
  },
  {
   "cell_type": "code",
   "execution_count": 36,
   "id": "f9b81107",
   "metadata": {},
   "outputs": [
    {
     "name": "stdout",
     "output_type": "stream",
     "text": [
      "199/199 [==============================] - 0s 772us/step\n"
     ]
    }
   ],
   "source": [
    "# Predict based on ANN model\n",
    "yp = model.predict(X_test)\n",
    "y_pred = []\n",
    "for element in yp: \n",
    "    if element > 0.5: \n",
    "        y_pred.append(1) \n",
    "    else:\n",
    "        y_pred.append(0)"
   ]
  },
  {
   "cell_type": "code",
   "execution_count": 37,
   "id": "e5bc5a3b",
   "metadata": {},
   "outputs": [
    {
     "data": {
      "text/plain": [
       "0.8729534005037783"
      ]
     },
     "execution_count": 37,
     "metadata": {},
     "output_type": "execute_result"
    }
   ],
   "source": [
    "# Check accuracy of the model \n",
    "accuracy_score(y_test, y_pred)"
   ]
  }
 ],
 "metadata": {
  "kernelspec": {
   "display_name": "Python 3 (ipykernel)",
   "language": "python",
   "name": "python3"
  },
  "language_info": {
   "codemirror_mode": {
    "name": "ipython",
    "version": 3
   },
   "file_extension": ".py",
   "mimetype": "text/x-python",
   "name": "python",
   "nbconvert_exporter": "python",
   "pygments_lexer": "ipython3",
   "version": "3.9.13"
  }
 },
 "nbformat": 4,
 "nbformat_minor": 5
}
